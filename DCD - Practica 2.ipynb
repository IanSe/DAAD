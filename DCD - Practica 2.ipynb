{
 "cells": [
  {
   "cell_type": "markdown",
   "metadata": {
    "id": "dtLitYwMuPgi"
   },
   "source": [
    "# Desarrollo de Aplicaciones para el Análisis de Datos. - Práctica 2\n",
    "---"
   ]
  },
  {
   "cell_type": "markdown",
   "metadata": {
    "id": "R55CXENuuPgl"
   },
   "source": [
    "Ahora es tu turno de analizar un banco de datos del mundo real que contiene datos de vuelos del Departamento de Transporte de Estados Unidos"
   ]
  },
  {
   "cell_type": "markdown",
   "metadata": {
    "id": "uH8rwAfiuPgm"
   },
   "source": [
    "Primero carga y visualiza los datos. (flights.csv)"
   ]
  },
  {
   "cell_type": "code",
   "execution_count": 2,
   "metadata": {
    "id": "chQN8LsruPgm"
   },
   "outputs": [],
   "source": [
    "import pandas as pd\n",
    "df = pd.read_csv('./flights.csv')"
   ]
  },
  {
   "cell_type": "markdown",
   "metadata": {
    "id": "0dFNUKneuPgn"
   },
   "source": [
    "El banco de datos contiene observaciones de los vuelos nacionales estadounidenses en 2013 y consta de los siguientes campos:\n",
    "- **Año**: El año del vuelo (todos los registros son de 2013).\n",
    "- **Mes**: El mes del vuelo\n",
    "- **DayofMonth** (día del mes): El día del mes en el que salió el vuelo\n",
    "- **Día de la semana**: El día de la semana en que salió el vuelo - del 1 (lunes) al 7 (domingo)\n",
    "- **Compañía aérea**: La abreviatura de dos letras de la compañía aérea.\n",
    "- **OriginAirportID**: Identificador numérico único del aeropuerto de salida.\n",
    "- **OriginAirportName**: El nombre completo del aeropuerto de salida\n",
    "- **OriginCity** (Ciudad de origen): Ciudad del aeropuerto de salida\n",
    "- **OriginState**: Estado del aeropuerto de salida Estado del aeropuerto de salida\n",
    "- **DestAirportID**: Identificador numérico único del aeropuerto de destino\n",
    "- **DestAirportName**: El nombre completo del aeropuerto de destino\n",
    "- **DestCity**: La ciudad del aeropuerto de destino\n",
    "- **DestState**: El estado del aeropuerto de destino\n",
    "- **CRSDepTime**: La hora de salida programada\n",
    "- **DepDelay**: El número de minutos que se retrasó la salida (los vuelos que salieron antes de lo previsto tienen un valor negativo)\n",
    "- **DelDelay15**: Un indicador binario de que la salida se retrasó más de 15 minutos (y por lo tanto se considera \"tarde\")\n",
    "- **CRSArrTime**: La hora de llegada programada\n",
    "- **ArrDelay**: El número de minutos que se retrasó la lleg"
   ]
  },
  {
   "cell_type": "markdown",
   "metadata": {
    "id": "0wCuHt0vuPgn"
   },
   "source": [
    "Lo que se tiene que hacer en esta práctica es explorar los datos de vuelo para analizar los posibles factores que afectan a los retrasos en la salida o llegada de un vuelo."
   ]
  },
  {
   "cell_type": "markdown",
   "metadata": {
    "id": "C64i7Qz1uPgn"
   },
   "source": [
    " 1. Empieza con limpiar los datos.\n",
    "     - Identifica los datos nulos o ausentes e imputa los valores de sustitución adecuados.\n",
    "     - Identifica y elimina cualquier valor atípico en las columnas *DepDelay* y *ArrDelay*.\n",
    "             - Tips:\n",
    "            - Primero visualiza la distribución de las columnas\n",
    "            - Define donde se observan los valores atipicos\n",
    "            - Recorta los datos de tal forma que los percentiles esten entre 1 y 90\n",
    " 2. Explora los datos limpios.\n",
    "     - Consulta las estadísticas de resumen de los campos numéricos del conjunto de datos.\n",
    "     - Determina la distribución de las columnas *DepDelay* y *ArrDelay*.\n",
    "     - Utiliza estadísticas, funciones de agregación y visualización para responder a las siguientes preguntas:\n",
    "         - *¿Cuáles son los promedios (mean) de salida y llegada?*\n",
    "         - *¿Cómo se comparan las compañías en cuanto a retrasos en las llegadas?*\n",
    "         - *¿Hay días de la semana más propensos a las llegadas que otros?*\n",
    "         - *¿Cuál es el aeropuerto de salida con mayor retraso medio?*\n",
    "         - *¿Las salidas tardías suelen provocar mayores retrasos en las llegadas que las salidas puntuales?*\n",
    "         - *¿Qué ruta (del aeropuerto de origen al aeropuerto de destino) tiene más llegadas con retraso?*\n",
    "         - *¿Qué ruta tiene el mayor retraso medio de llegada?*"
   ]
  },
  {
   "cell_type": "code",
   "execution_count": 3,
   "metadata": {
    "id": "ZgXjSHtxuPgo"
   },
   "outputs": [],
   "source": [
    "#escribe tu código aqui"
   ]
  },
  {
   "cell_type": "code",
   "execution_count": 4,
   "metadata": {},
   "outputs": [
    {
     "data": {
      "text/html": [
       "<div>\n",
       "<style scoped>\n",
       "    .dataframe tbody tr th:only-of-type {\n",
       "        vertical-align: middle;\n",
       "    }\n",
       "\n",
       "    .dataframe tbody tr th {\n",
       "        vertical-align: top;\n",
       "    }\n",
       "\n",
       "    .dataframe thead th {\n",
       "        text-align: right;\n",
       "    }\n",
       "</style>\n",
       "<table border=\"1\" class=\"dataframe\">\n",
       "  <thead>\n",
       "    <tr style=\"text-align: right;\">\n",
       "      <th></th>\n",
       "      <th>Year</th>\n",
       "      <th>Month</th>\n",
       "      <th>DayofMonth</th>\n",
       "      <th>DayOfWeek</th>\n",
       "      <th>Carrier</th>\n",
       "      <th>OriginAirportID</th>\n",
       "      <th>OriginAirportName</th>\n",
       "      <th>OriginCity</th>\n",
       "      <th>OriginState</th>\n",
       "      <th>DestAirportID</th>\n",
       "      <th>DestAirportName</th>\n",
       "      <th>DestCity</th>\n",
       "      <th>DestState</th>\n",
       "      <th>CRSDepTime</th>\n",
       "      <th>DepDelay</th>\n",
       "      <th>DepDel15</th>\n",
       "      <th>CRSArrTime</th>\n",
       "      <th>ArrDelay</th>\n",
       "      <th>ArrDel15</th>\n",
       "      <th>Cancelled</th>\n",
       "    </tr>\n",
       "  </thead>\n",
       "  <tbody>\n",
       "    <tr>\n",
       "      <th>0</th>\n",
       "      <td>2013</td>\n",
       "      <td>9</td>\n",
       "      <td>16</td>\n",
       "      <td>1</td>\n",
       "      <td>DL</td>\n",
       "      <td>15304</td>\n",
       "      <td>Tampa International</td>\n",
       "      <td>Tampa</td>\n",
       "      <td>FL</td>\n",
       "      <td>12478</td>\n",
       "      <td>John F. Kennedy International</td>\n",
       "      <td>New York</td>\n",
       "      <td>NY</td>\n",
       "      <td>1539</td>\n",
       "      <td>4</td>\n",
       "      <td>0.0</td>\n",
       "      <td>1824</td>\n",
       "      <td>13</td>\n",
       "      <td>0</td>\n",
       "      <td>0</td>\n",
       "    </tr>\n",
       "    <tr>\n",
       "      <th>1</th>\n",
       "      <td>2013</td>\n",
       "      <td>9</td>\n",
       "      <td>23</td>\n",
       "      <td>1</td>\n",
       "      <td>WN</td>\n",
       "      <td>14122</td>\n",
       "      <td>Pittsburgh International</td>\n",
       "      <td>Pittsburgh</td>\n",
       "      <td>PA</td>\n",
       "      <td>13232</td>\n",
       "      <td>Chicago Midway International</td>\n",
       "      <td>Chicago</td>\n",
       "      <td>IL</td>\n",
       "      <td>710</td>\n",
       "      <td>3</td>\n",
       "      <td>0.0</td>\n",
       "      <td>740</td>\n",
       "      <td>22</td>\n",
       "      <td>1</td>\n",
       "      <td>0</td>\n",
       "    </tr>\n",
       "    <tr>\n",
       "      <th>2</th>\n",
       "      <td>2013</td>\n",
       "      <td>9</td>\n",
       "      <td>7</td>\n",
       "      <td>6</td>\n",
       "      <td>AS</td>\n",
       "      <td>14747</td>\n",
       "      <td>Seattle/Tacoma International</td>\n",
       "      <td>Seattle</td>\n",
       "      <td>WA</td>\n",
       "      <td>11278</td>\n",
       "      <td>Ronald Reagan Washington National</td>\n",
       "      <td>Washington</td>\n",
       "      <td>DC</td>\n",
       "      <td>810</td>\n",
       "      <td>-3</td>\n",
       "      <td>0.0</td>\n",
       "      <td>1614</td>\n",
       "      <td>-7</td>\n",
       "      <td>0</td>\n",
       "      <td>0</td>\n",
       "    </tr>\n",
       "    <tr>\n",
       "      <th>3</th>\n",
       "      <td>2013</td>\n",
       "      <td>7</td>\n",
       "      <td>22</td>\n",
       "      <td>1</td>\n",
       "      <td>OO</td>\n",
       "      <td>13930</td>\n",
       "      <td>Chicago O'Hare International</td>\n",
       "      <td>Chicago</td>\n",
       "      <td>IL</td>\n",
       "      <td>11042</td>\n",
       "      <td>Cleveland-Hopkins International</td>\n",
       "      <td>Cleveland</td>\n",
       "      <td>OH</td>\n",
       "      <td>804</td>\n",
       "      <td>35</td>\n",
       "      <td>1.0</td>\n",
       "      <td>1027</td>\n",
       "      <td>33</td>\n",
       "      <td>1</td>\n",
       "      <td>0</td>\n",
       "    </tr>\n",
       "    <tr>\n",
       "      <th>4</th>\n",
       "      <td>2013</td>\n",
       "      <td>5</td>\n",
       "      <td>16</td>\n",
       "      <td>4</td>\n",
       "      <td>DL</td>\n",
       "      <td>13931</td>\n",
       "      <td>Norfolk International</td>\n",
       "      <td>Norfolk</td>\n",
       "      <td>VA</td>\n",
       "      <td>10397</td>\n",
       "      <td>Hartsfield-Jackson Atlanta International</td>\n",
       "      <td>Atlanta</td>\n",
       "      <td>GA</td>\n",
       "      <td>545</td>\n",
       "      <td>-1</td>\n",
       "      <td>0.0</td>\n",
       "      <td>728</td>\n",
       "      <td>-9</td>\n",
       "      <td>0</td>\n",
       "      <td>0</td>\n",
       "    </tr>\n",
       "  </tbody>\n",
       "</table>\n",
       "</div>"
      ],
      "text/plain": [
       "   Year  Month  DayofMonth  DayOfWeek Carrier  OriginAirportID  \\\n",
       "0  2013      9          16          1      DL            15304   \n",
       "1  2013      9          23          1      WN            14122   \n",
       "2  2013      9           7          6      AS            14747   \n",
       "3  2013      7          22          1      OO            13930   \n",
       "4  2013      5          16          4      DL            13931   \n",
       "\n",
       "              OriginAirportName  OriginCity OriginState  DestAirportID  \\\n",
       "0           Tampa International       Tampa          FL          12478   \n",
       "1      Pittsburgh International  Pittsburgh          PA          13232   \n",
       "2  Seattle/Tacoma International     Seattle          WA          11278   \n",
       "3  Chicago O'Hare International     Chicago          IL          11042   \n",
       "4         Norfolk International     Norfolk          VA          10397   \n",
       "\n",
       "                            DestAirportName    DestCity DestState  CRSDepTime  \\\n",
       "0             John F. Kennedy International    New York        NY        1539   \n",
       "1              Chicago Midway International     Chicago        IL         710   \n",
       "2         Ronald Reagan Washington National  Washington        DC         810   \n",
       "3           Cleveland-Hopkins International   Cleveland        OH         804   \n",
       "4  Hartsfield-Jackson Atlanta International     Atlanta        GA         545   \n",
       "\n",
       "   DepDelay  DepDel15  CRSArrTime  ArrDelay  ArrDel15  Cancelled  \n",
       "0         4       0.0        1824        13         0          0  \n",
       "1         3       0.0         740        22         1          0  \n",
       "2        -3       0.0        1614        -7         0          0  \n",
       "3        35       1.0        1027        33         1          0  \n",
       "4        -1       0.0         728        -9         0          0  "
      ]
     },
     "execution_count": 4,
     "metadata": {},
     "output_type": "execute_result"
    }
   ],
   "source": [
    "df.head()"
   ]
  },
  {
   "cell_type": "code",
   "execution_count": 5,
   "metadata": {},
   "outputs": [
    {
     "name": "stdout",
     "output_type": "stream",
     "text": [
      "        Year  Month  DayofMonth  DayOfWeek Carrier  OriginAirportID  \\\n",
      "171     2013      4          18          4      DL            10397   \n",
      "359     2013      5          22          3      OO            11433   \n",
      "429     2013      7           3          3      MQ            13851   \n",
      "545     2013      4          13          6      FL            14524   \n",
      "554     2013      5           8          3      EV            12953   \n",
      "...      ...    ...         ...        ...     ...              ...   \n",
      "271410  2013      8           5          1      WN            14831   \n",
      "271607  2013      6          18          2      EV            14100   \n",
      "271634  2013      5           8          3      AA            11298   \n",
      "271671  2013     10           8          2      WN            12892   \n",
      "271885  2013      5          15          3      US            14771   \n",
      "\n",
      "                               OriginAirportName         OriginCity  \\\n",
      "171     Hartsfield-Jackson Atlanta International            Atlanta   \n",
      "359                   Detroit Metro Wayne County            Detroit   \n",
      "429                            Will Rogers World      Oklahoma City   \n",
      "545                       Richmond International           Richmond   \n",
      "554                                    LaGuardia           New York   \n",
      "...                                          ...                ...   \n",
      "271410   Norman Y. Mineta San Jose International           San Jose   \n",
      "271607                Philadelphia International       Philadelphia   \n",
      "271634           Dallas/Fort Worth International  Dallas/Fort Worth   \n",
      "271671                 Los Angeles International        Los Angeles   \n",
      "271885               San Francisco International      San Francisco   \n",
      "\n",
      "       OriginState  DestAirportID                             DestAirportName  \\\n",
      "171             GA          13930                Chicago O'Hare International   \n",
      "359             MI          13930                Chicago O'Hare International   \n",
      "429             OK          13930                Chicago O'Hare International   \n",
      "545             VA          10397    Hartsfield-Jackson Atlanta International   \n",
      "554             NY          11193  Cincinnati/Northern Kentucky International   \n",
      "...            ...            ...                                         ...   \n",
      "271410          CA          10800                                    Bob Hope   \n",
      "271607          PA          13244                       Memphis International   \n",
      "271634          TX          14100                  Philadelphia International   \n",
      "271671          CA          12889                      McCarran International   \n",
      "271885          CA          14100                  Philadelphia International   \n",
      "\n",
      "            DestCity DestState  CRSDepTime  DepDelay  DepDel15  CRSArrTime  \\\n",
      "171          Chicago        IL         835         0       NaN         945   \n",
      "359          Chicago        IL        1719         0       NaN        1738   \n",
      "429          Chicago        IL        1935         0       NaN        2125   \n",
      "545          Atlanta        GA         630         0       NaN         809   \n",
      "554       Cincinnati        OH        1320         0       NaN        1524   \n",
      "...              ...       ...         ...       ...       ...         ...   \n",
      "271410       Burbank        CA        1525         0       NaN        1625   \n",
      "271607       Memphis        TN         600         0       NaN         729   \n",
      "271634  Philadelphia        PA        1325         0       NaN        1745   \n",
      "271671     Las Vegas        NV        1440         0       NaN        1540   \n",
      "271885  Philadelphia        PA        1059         0       NaN        1918   \n",
      "\n",
      "        ArrDelay  ArrDel15  Cancelled  \n",
      "171            0         1          1  \n",
      "359            0         1          1  \n",
      "429            0         1          1  \n",
      "545            0         1          1  \n",
      "554            0         1          1  \n",
      "...          ...       ...        ...  \n",
      "271410         0         1          1  \n",
      "271607         0         1          1  \n",
      "271634         0         1          1  \n",
      "271671         0         1          1  \n",
      "271885         0         1          1  \n",
      "\n",
      "[2761 rows x 20 columns]\n"
     ]
    }
   ],
   "source": [
    "df1 = df[df.isna().any(axis=1)]\n",
    "print (df1)"
   ]
  },
  {
   "cell_type": "code",
   "execution_count": 6,
   "metadata": {},
   "outputs": [
    {
     "data": {
      "text/plain": [
       "Year                    0\n",
       "Month                   0\n",
       "DayofMonth              0\n",
       "DayOfWeek               0\n",
       "Carrier                 0\n",
       "OriginAirportID         0\n",
       "OriginAirportName       0\n",
       "OriginCity              0\n",
       "OriginState             0\n",
       "DestAirportID           0\n",
       "DestAirportName         0\n",
       "DestCity                0\n",
       "DestState               0\n",
       "CRSDepTime              0\n",
       "DepDelay                0\n",
       "DepDel15             2761\n",
       "CRSArrTime              0\n",
       "ArrDelay                0\n",
       "ArrDel15                0\n",
       "Cancelled               0\n",
       "dtype: int64"
      ]
     },
     "execution_count": 6,
     "metadata": {},
     "output_type": "execute_result"
    }
   ],
   "source": [
    "df.isna().sum()"
   ]
  },
  {
   "cell_type": "code",
   "execution_count": 7,
   "metadata": {},
   "outputs": [
    {
     "name": "stdout",
     "output_type": "stream",
     "text": [
      "          ArrDelay\n",
      "Carrier           \n",
      "9E        5.100463\n",
      "AA        7.288294\n",
      "AS       -0.129657\n",
      "B6        9.841757\n",
      "DL        2.415259\n",
      "EV       10.112552\n",
      "F9       11.460147\n",
      "FL        7.611958\n",
      "HA        1.443321\n",
      "MQ       13.220602\n",
      "OO        6.054447\n",
      "UA        4.847762\n",
      "US        4.011702\n",
      "VX        9.453929\n",
      "WN        8.062512\n",
      "YV        7.871276\n"
     ]
    }
   ],
   "source": [
    "dft = df[[\"Carrier\", \"ArrDelay\"]]\n",
    "df1 = dft.groupby([\"Carrier\"]).mean()\n",
    "print(df1)"
   ]
  },
  {
   "cell_type": "code",
   "execution_count": 10,
   "metadata": {},
   "outputs": [
    {
     "name": "stdout",
     "output_type": "stream",
     "text": [
      "Valores perdidos en DepDel15: 0\n"
     ]
    },
    {
     "data": {
      "text/plain": [
       "Year                 0\n",
       "Month                0\n",
       "DayofMonth           0\n",
       "DayOfWeek            0\n",
       "Carrier              0\n",
       "OriginAirportID      0\n",
       "OriginAirportName    0\n",
       "OriginCity           0\n",
       "OriginState          0\n",
       "DestAirportID        0\n",
       "DestAirportName      0\n",
       "DestCity             0\n",
       "DestState            0\n",
       "CRSDepTime           0\n",
       "DepDelay             0\n",
       "DepDel15             0\n",
       "CRSArrTime           0\n",
       "ArrDelay             0\n",
       "ArrDel15             0\n",
       "Cancelled            0\n",
       "dtype: int64"
      ]
     },
     "execution_count": 10,
     "metadata": {},
     "output_type": "execute_result"
    }
   ],
   "source": [
    "from sklearn.impute import KNNImputer\n",
    "imputer = KNNImputer(n_neighbors=5, weights=\"uniform\")\n",
    "# Ajustamos el modelo e imputamos los missing values\n",
    "imputer.fit(df[[\"DepDel15\"]])\n",
    "df[\"DepDel15\"] = imputer.transform(df[[\"DepDel15\"]]).ravel()\n",
    "\n",
    "print(\"Valores perdidos en DepDel15: \" + str(df['DepDel15'].isnull().sum()))\n",
    "df.isnull().sum()"
   ]
  },
  {
   "cell_type": "code",
   "execution_count": 55,
   "metadata": {},
   "outputs": [
    {
     "data": {
      "text/plain": [
       "<Axes: xlabel='DayOfWeek'>"
      ]
     },
     "execution_count": 55,
     "metadata": {},
     "output_type": "execute_result"
    },
    {
     "data": {
      "image/png": "[encoded data removed]",
      "text/plain": [
       "<Figure size 640x480 with 1 Axes>"
      ]
     },
     "metadata": {},
     "output_type": "display_data"
    }
   ],
   "source": [
    "import matplotlib.pyplot as plt\n",
    "dft2 = df[['DayOfWeek', 'CRSArrTime']]\n",
    "df2 = dft2['DayOfWeek'].value_counts()\n",
    "wdays = {'Monday', 'Tuesday', 'Wednesday', 'Thursday', 'Friday', 'Saturday', 'Sunday'}\n",
    "df2.plot.bar(color='purple')"
   ]
  },
  {
   "cell_type": "code",
   "execution_count": 56,
   "metadata": {},
   "outputs": [],
   "source": [
    "##Indice de Ro Aeropuerto y DepDelay"
   ]
  },
  {
   "cell_type": "code",
   "execution_count": 49,
   "metadata": {},
   "outputs": [
    {
     "name": "stdout",
     "output_type": "stream",
     "text": [
      "Point-Biserial Correlation Coefficient: -0.24877376671634216\n"
     ]
    }
   ],
   "source": [
    "import scipy.stats as stats\n",
    "from sklearn.preprocessing import LabelEncoder\n",
    "df3 = df[['OriginAirportName','DepDelay']]\n",
    "dft = df3.groupby('OriginAirportName').mean().sort_values(by='OriginAirportName', ascending=True)\n",
    "dft['Origin'] = df['OriginAirportName'].sort_values().unique()\n",
    "dft\n",
    "le = LabelEncoder()\n",
    "dft['Number'] = le.fit_transform(dft['Origin'])\n",
    "correlation, _ = stats.pointbiserialr(dft['Number'], dft['DepDelay'])\n",
    "print(f\"Point-Biserial Correlation Coefficient: {correlation}\")"
   ]
  },
  {
   "cell_type": "code",
   "execution_count": 11,
   "metadata": {},
   "outputs": [
    {
     "data": {
      "text/plain": [
       "array(['Tampa International', 'Pittsburgh International',\n",
       "       'Seattle/Tacoma International', \"Chicago O'Hare International\",\n",
       "       'Norfolk International', 'John F. Kennedy International',\n",
       "       'Metropolitan Oakland International',\n",
       "       'Washington Dulles International', 'Los Angeles International',\n",
       "       'Orlando International',\n",
       "       'Baltimore/Washington International Thurgood Marshall',\n",
       "       'Dallas/Fort Worth International',\n",
       "       'Phoenix Sky Harbor International',\n",
       "       'Charlotte Douglas International', 'McCarran International',\n",
       "       'William P Hobby', 'Denver International',\n",
       "       'Detroit Metro Wayne County', 'Eppley Airfield',\n",
       "       'Sacramento International',\n",
       "       'Hartsfield-Jackson Atlanta International',\n",
       "       'Salt Lake City International', 'Logan International',\n",
       "       'San Francisco International',\n",
       "       'George Bush Intercontinental/Houston',\n",
       "       'San Antonio International', 'Minneapolis-St Paul International',\n",
       "       'Kansas City International', 'Port Columbus International',\n",
       "       'LaGuardia', 'Newark Liberty International',\n",
       "       'Cleveland-Hopkins International', 'Nashville International',\n",
       "       'Philadelphia International', 'Bradley International',\n",
       "       'Ontario International', 'Chicago Midway International',\n",
       "       'Dallas Love Field', 'San Diego International',\n",
       "       'Luis Munoz Marin International', 'Portland International',\n",
       "       'Long Beach Airport', 'Indianapolis International',\n",
       "       'Buffalo Niagara International', 'Miami International',\n",
       "       'Norman Y. Mineta San Jose International',\n",
       "       'John Wayne Airport-Orange County',\n",
       "       'Ronald Reagan Washington National', 'Bob Hope',\n",
       "       'Louis Armstrong New Orleans International',\n",
       "       'Richmond International',\n",
       "       'Fort Lauderdale-Hollywood International',\n",
       "       'Louisville International-Standiford Field',\n",
       "       'General Mitchell International', 'Reno/Tahoe International',\n",
       "       'Austin - Bergstrom International',\n",
       "       'Lambert-St. Louis International',\n",
       "       'Albuquerque International Sunport', 'Jacksonville International',\n",
       "       'Tucson International', 'Theodore Francis Green State',\n",
       "       'Ted Stevens Anchorage International', 'Will Rogers World',\n",
       "       'Honolulu International',\n",
       "       'Cincinnati/Northern Kentucky International',\n",
       "       'Palm Beach International', 'Raleigh-Durham International',\n",
       "       'Southwest Florida International', 'Memphis International',\n",
       "       'Kahului Airport'], dtype=object)"
      ]
     },
     "execution_count": 11,
     "metadata": {},
     "output_type": "execute_result"
    }
   ],
   "source": [
    "dft['OriginAirportName'].unique()"
   ]
  },
  {
   "cell_type": "code",
   "execution_count": null,
   "metadata": {},
   "outputs": [],
   "source": []
  }
 ],
 "metadata": {
  "colab": {
   "provenance": []
  },
  "kernelspec": {
   "display_name": "Python 3 (ipykernel)",
   "language": "python",
   "name": "python3"
  },
  "language_info": {
   "codemirror_mode": {
    "name": "ipython",
    "version": 3
   },
   "file_extension": ".py",
   "mimetype": "text/x-python",
   "name": "python",
   "nbconvert_exporter": "python",
   "pygments_lexer": "ipython3",
   "version": "3.11.5"
  }
 },
 "nbformat": 4,
 "nbformat_minor": 4
}
